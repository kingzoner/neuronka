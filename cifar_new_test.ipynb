{
 "cells": [
  {
   "cell_type": "code",
   "execution_count": 10,
   "metadata": {},
   "outputs": [
    {
     "name": "stdout",
     "output_type": "stream",
     "text": [
      "[[0. 0. 0. 0. 0. 0. 0. 0. 1. 0.]]\n"
     ]
    }
   ],
   "source": [
    "from tensorflow.keras.models import load_model\n",
    "from tensorflow.keras.preprocessing import image\n",
    "import numpy as np\n",
    "import tensorflow as tf\n",
    "\n",
    "# загрузить сеть\n",
    "model = load_model('new_neural_test.h5')\n",
    "\n",
    "# загрузить изображение\n",
    "img = image.load_img('pes.jpg', target_size=(32, 32), color_mode = 'rgb')\n",
    "\n",
    "# Вся херня здесь. Я не могу понять, как преобразовать картинку. Если сделать так,\n",
    "# как написано здесь, то сеть распознает всё неправильно. Я обучал её на выборке cifar-10\n",
    "# посмотри, как всё преобразовывалось при обучении. Файл new model for saving\n",
    "# преобразовать \n",
    "x = image.img_to_array(img)\n",
    "x = np.expand_dims(x, axis=0)\n",
    "# нормализовать\n",
    "x /= 255\n",
    "\n",
    "# распознавание\n",
    "prediction = model.predict(x)\n",
    "predictiom = np.argmax(prediction)\n",
    "print(prediction)"
   ]
  },
  {
   "cell_type": "code",
   "execution_count": null,
   "metadata": {},
   "outputs": [],
   "source": []
  },
  {
   "cell_type": "code",
   "execution_count": null,
   "metadata": {},
   "outputs": [],
   "source": []
  }
 ],
 "metadata": {
  "kernelspec": {
   "display_name": "Python 3",
   "language": "python",
   "name": "python3"
  },
  "language_info": {
   "codemirror_mode": {
    "name": "ipython",
    "version": 3
   },
   "file_extension": ".py",
   "mimetype": "text/x-python",
   "name": "python",
   "nbconvert_exporter": "python",
   "pygments_lexer": "ipython3",
   "version": "3.7.1"
  }
 },
 "nbformat": 4,
 "nbformat_minor": 2
}
